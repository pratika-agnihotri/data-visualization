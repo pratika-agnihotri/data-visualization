{
  "nbformat": 4,
  "nbformat_minor": 0,
  "metadata": {
    "kernelspec": {
      "display_name": "Python 3",
      "language": "python",
      "name": "python3"
    },
    "language_info": {
      "codemirror_mode": {
        "name": "ipython",
        "version": 3
      },
      "file_extension": ".py",
      "mimetype": "text/x-python",
      "name": "python",
      "nbconvert_exporter": "python",
      "pygments_lexer": "ipython3",
      "version": "3.6.3"
    },
    "colab": {
      "name": "Numpy_Lab_Exercise_Question.ipynb",
      "provenance": [],
      "include_colab_link": true
    }
  },
  "cells": [
    {
      "cell_type": "markdown",
      "metadata": {
        "id": "view-in-github",
        "colab_type": "text"
      },
      "source": [
        "<a href=\"https://colab.research.google.com/github/pratika-agnihotri/data-visualization/blob/master/Numpy_Lab_Exercise_Question.ipynb\" target=\"_parent\"><img src=\"https://colab.research.google.com/assets/colab-badge.svg\" alt=\"Open In Colab\"/></a>"
      ]
    },
    {
      "cell_type": "markdown",
      "metadata": {
        "id": "_bvrBv6WrIrY",
        "colab_type": "text"
      },
      "source": [
        "# NumPy Lab Exercises \n",
        "\n",
        "Solve the following questions"
      ]
    },
    {
      "cell_type": "markdown",
      "metadata": {
        "id": "nfbC0WKtrIra",
        "colab_type": "text"
      },
      "source": [
        "#### Import NumPy package as np"
      ]
    },
    {
      "cell_type": "code",
      "metadata": {
        "id": "QO_pPzHYrIrb",
        "colab_type": "code",
        "colab": {}
      },
      "source": [
        "import numpy as np"
      ],
      "execution_count": 0,
      "outputs": []
    },
    {
      "cell_type": "markdown",
      "metadata": {
        "id": "eygdgytZrIrk",
        "colab_type": "text"
      },
      "source": [
        "#### Create an empty array of 20 0's and replace the 4th object with the number 5"
      ]
    },
    {
      "cell_type": "code",
      "metadata": {
        "id": "fg6aZhDhrIrm",
        "colab_type": "code",
        "colab": {
          "base_uri": "https://localhost:8080/",
          "height": 34
        },
        "outputId": "4f3824c8-f82f-455a-e7e1-07b31ab1b80b"
      },
      "source": [
        "# a = np.zeros(20)\n",
        "\n",
        "# a[3]=5\n",
        "\n",
        "# a\n",
        "\n",
        "array = np.zeros(20, dtype=int)\n",
        "print(array)"
      ],
      "execution_count": 4,
      "outputs": [
        {
          "output_type": "stream",
          "text": [
            "[0 0 0 0 0 0 0 0 0 0 0 0 0 0 0 0 0 0 0 0]\n"
          ],
          "name": "stdout"
        }
      ]
    },
    {
      "cell_type": "markdown",
      "metadata": {
        "id": "F3h6Xa07rIrr",
        "colab_type": "text"
      },
      "source": [
        "#### Create an array of 20 1's and store it as a variable named array_master. Copy the same array into another variable named array_copy"
      ]
    },
    {
      "cell_type": "code",
      "metadata": {
        "id": "HKrpd9b1rIrs",
        "colab_type": "code",
        "colab": {},
        "outputId": "5bc8879c-8353-489a-a04c-276565be354e"
      },
      "source": [
        "array_master = np.ones(20)\n",
        "\n",
        "array_copy = array_master.copy()\n",
        "\n",
        "array_copy"
      ],
      "execution_count": 0,
      "outputs": [
        {
          "output_type": "execute_result",
          "data": {
            "text/plain": [
              "array([ 1.,  1.,  1.,  1.,  1.,  1.,  1.,  1.,  1.,  1.,  1.,  1.,  1.,\n",
              "        1.,  1.,  1.,  1.,  1.,  1.,  1.])"
            ]
          },
          "metadata": {
            "tags": []
          },
          "execution_count": 3
        }
      ]
    },
    {
      "cell_type": "markdown",
      "metadata": {
        "id": "kPKsNcFXrIrz",
        "colab_type": "text"
      },
      "source": [
        "#### Create an array containing 30 1's and broadcast all the one's to the value 100"
      ]
    },
    {
      "cell_type": "code",
      "metadata": {
        "id": "Ruw07TkGrIr0",
        "colab_type": "code",
        "colab": {},
        "outputId": "901bdfb8-adc5-4448-a22f-5e3718465c08"
      },
      "source": [
        "array = np.ones(30)\n",
        "\n",
        "array[:] = 100\n",
        "\n",
        "array"
      ],
      "execution_count": 0,
      "outputs": [
        {
          "output_type": "execute_result",
          "data": {
            "text/plain": [
              "array([ 100.,  100.,  100.,  100.,  100.,  100.,  100.,  100.,  100.,\n",
              "        100.,  100.,  100.,  100.,  100.,  100.,  100.,  100.,  100.,\n",
              "        100.,  100.,  100.,  100.,  100.,  100.,  100.,  100.,  100.,\n",
              "        100.,  100.,  100.])"
            ]
          },
          "metadata": {
            "tags": []
          },
          "execution_count": 4
        }
      ]
    },
    {
      "cell_type": "markdown",
      "metadata": {
        "id": "neTpGsukrIr4",
        "colab_type": "text"
      },
      "source": [
        "#### Create an array of integers starting from 21 until 31 and name it as array1\n",
        "\n",
        "#### Create an array of integers starting from 11 until 21 and name it array2\n",
        "\n",
        "#### Calculate the difference between array1 and array2"
      ]
    },
    {
      "cell_type": "code",
      "metadata": {
        "id": "t1n-pOnvrIr5",
        "colab_type": "code",
        "colab": {},
        "outputId": "1747fc67-11b4-400d-e412-fb3f70e7cc61"
      },
      "source": [
        "array1 = np.arange(21,32)\n",
        "\n",
        "array2 = np.arange(11,22)\n",
        "\n",
        "array1 - array2"
      ],
      "execution_count": 0,
      "outputs": [
        {
          "output_type": "execute_result",
          "data": {
            "text/plain": [
              "array([10, 10, 10, 10, 10, 10, 10, 10, 10, 10, 10])"
            ]
          },
          "metadata": {
            "tags": []
          },
          "execution_count": 5
        }
      ]
    },
    {
      "cell_type": "markdown",
      "metadata": {
        "id": "mhE2GybvrIr9",
        "colab_type": "text"
      },
      "source": [
        "#### Create an array of all even integers from 2 to 10 and name it a1\n",
        "\n",
        "#### Create an array of all even integers from 22 to 30 and name it a2\n",
        "\n",
        "####  a) Use the 2 arrays as rows and create a matrix [ Hint - Use stack function from numpy ]"
      ]
    },
    {
      "cell_type": "code",
      "metadata": {
        "id": "PbVvPKoOrIr_",
        "colab_type": "code",
        "colab": {},
        "outputId": "529aa6ee-d9ec-4e01-eed8-31b4542a41a5"
      },
      "source": [
        "a1 = np.arange(2,11,2)\n",
        "\n",
        "a2 = np.arange(22,31,2)\n",
        "\n",
        "np.stack((a1,a2))"
      ],
      "execution_count": 0,
      "outputs": [
        {
          "output_type": "execute_result",
          "data": {
            "text/plain": [
              "array([[ 2,  4,  6,  8, 10],\n",
              "       [22, 24, 26, 28, 30]])"
            ]
          },
          "metadata": {
            "tags": []
          },
          "execution_count": 9
        }
      ]
    },
    {
      "cell_type": "markdown",
      "metadata": {
        "id": "e5bB8HXsrIsG",
        "colab_type": "text"
      },
      "source": [
        "####  b) Use the 2 arrays as columns and create a matrix [ Hint - Use column_stack function from numpy ]"
      ]
    },
    {
      "cell_type": "code",
      "metadata": {
        "id": "Vh-E1PfqrIsG",
        "colab_type": "code",
        "colab": {},
        "outputId": "53a4dace-9f4f-46c4-baf1-478e47d674a2"
      },
      "source": [
        "np.column_stack((a1,a2))"
      ],
      "execution_count": 0,
      "outputs": [
        {
          "output_type": "execute_result",
          "data": {
            "text/plain": [
              "array([[ 2, 22],\n",
              "       [ 4, 24],\n",
              "       [ 6, 26],\n",
              "       [ 8, 28],\n",
              "       [10, 30]])"
            ]
          },
          "metadata": {
            "tags": []
          },
          "execution_count": 10
        }
      ]
    },
    {
      "cell_type": "markdown",
      "metadata": {
        "id": "REJbTcJvrIsK",
        "colab_type": "text"
      },
      "source": [
        "#### Create a 5x6 matrix with values ranging from 0 to 29 and retrieve the value intersecting at 2nd row and 3rd column"
      ]
    },
    {
      "cell_type": "code",
      "metadata": {
        "id": "CkMK2C14rIsL",
        "colab_type": "code",
        "colab": {},
        "outputId": "36d4954d-b0f4-40cc-8beb-028275312a6f"
      },
      "source": [
        "array_matrix = np.arange(30).reshape(5,6)\n",
        "\n",
        "array_matrix[1,2]"
      ],
      "execution_count": 0,
      "outputs": [
        {
          "output_type": "execute_result",
          "data": {
            "text/plain": [
              "8"
            ]
          },
          "metadata": {
            "tags": []
          },
          "execution_count": 11
        }
      ]
    },
    {
      "cell_type": "markdown",
      "metadata": {
        "id": "ZNlBzQM8rIsP",
        "colab_type": "text"
      },
      "source": [
        "#### Create an identity matrix of shape 10x10 and replace the 0's with the value 21"
      ]
    },
    {
      "cell_type": "code",
      "metadata": {
        "id": "bcxRIRrerIsQ",
        "colab_type": "code",
        "colab": {},
        "outputId": "79e2a3bf-a7eb-4b0e-95b3-3cc40b4dd90d"
      },
      "source": [
        "arr = np.eye(10)\n",
        "\n",
        "arr[arr == 0] = 21\n",
        "\n",
        "arr"
      ],
      "execution_count": 0,
      "outputs": [
        {
          "output_type": "execute_result",
          "data": {
            "text/plain": [
              "array([[  1.,  21.,  21.,  21.,  21.,  21.,  21.,  21.,  21.,  21.],\n",
              "       [ 21.,   1.,  21.,  21.,  21.,  21.,  21.,  21.,  21.,  21.],\n",
              "       [ 21.,  21.,   1.,  21.,  21.,  21.,  21.,  21.,  21.,  21.],\n",
              "       [ 21.,  21.,  21.,   1.,  21.,  21.,  21.,  21.,  21.,  21.],\n",
              "       [ 21.,  21.,  21.,  21.,   1.,  21.,  21.,  21.,  21.,  21.],\n",
              "       [ 21.,  21.,  21.,  21.,  21.,   1.,  21.,  21.,  21.,  21.],\n",
              "       [ 21.,  21.,  21.,  21.,  21.,  21.,   1.,  21.,  21.,  21.],\n",
              "       [ 21.,  21.,  21.,  21.,  21.,  21.,  21.,   1.,  21.,  21.],\n",
              "       [ 21.,  21.,  21.,  21.,  21.,  21.,  21.,  21.,   1.,  21.],\n",
              "       [ 21.,  21.,  21.,  21.,  21.,  21.,  21.,  21.,  21.,   1.]])"
            ]
          },
          "metadata": {
            "tags": []
          },
          "execution_count": 13
        }
      ]
    },
    {
      "cell_type": "markdown",
      "metadata": {
        "id": "HDGcs_MFrIsU",
        "colab_type": "text"
      },
      "source": [
        "#### Use NumPy to generate a random set of 10 numbers between 0 and 1\n",
        "\n",
        "#### Display a boolean array output where all values > 0.2 are True, rest are marked as False"
      ]
    },
    {
      "cell_type": "code",
      "metadata": {
        "id": "RKr066ImrIsW",
        "colab_type": "code",
        "colab": {},
        "outputId": "062bd97e-03f3-49d8-8086-3b83f2eeb612"
      },
      "source": [
        "ar = np.random.rand(10)\n",
        "\n",
        "ar>0.2"
      ],
      "execution_count": 0,
      "outputs": [
        {
          "output_type": "execute_result",
          "data": {
            "text/plain": [
              "array([False,  True,  True,  True,  True, False,  True, False,  True,  True], dtype=bool)"
            ]
          },
          "metadata": {
            "tags": []
          },
          "execution_count": 14
        }
      ]
    },
    {
      "cell_type": "markdown",
      "metadata": {
        "id": "ldaNXJyKrIsa",
        "colab_type": "text"
      },
      "source": [
        "#### Use NumPy to generate an array matrix of 5x2 random numbers sampled from a standard normal distribution"
      ]
    },
    {
      "cell_type": "code",
      "metadata": {
        "id": "XNV7HcMsrIsa",
        "colab_type": "code",
        "colab": {},
        "outputId": "44c6b272-57c3-4a62-e79b-ab5e52c1b304"
      },
      "source": [
        "np.random.randn(5,2)"
      ],
      "execution_count": 0,
      "outputs": [
        {
          "output_type": "execute_result",
          "data": {
            "text/plain": [
              "array([[-1.07004361, -0.54106594],\n",
              "       [ 0.05922295, -0.33106219],\n",
              "       [ 0.0268216 ,  0.23273877],\n",
              "       [-0.80636334,  0.25257233],\n",
              "       [ 0.67945485, -0.27808232]])"
            ]
          },
          "metadata": {
            "tags": []
          },
          "execution_count": 15
        }
      ]
    },
    {
      "cell_type": "markdown",
      "metadata": {
        "id": "P43SxCn8rIse",
        "colab_type": "text"
      },
      "source": [
        "#### Create an array of 30 linearly spaced points between 0 and 100:"
      ]
    },
    {
      "cell_type": "code",
      "metadata": {
        "id": "f_VIgfc_rIsf",
        "colab_type": "code",
        "colab": {},
        "outputId": "198f3903-0c90-45f1-f414-599eddf00dd5"
      },
      "source": [
        "np.linspace(0,100,30)"
      ],
      "execution_count": 0,
      "outputs": [
        {
          "output_type": "execute_result",
          "data": {
            "text/plain": [
              "array([   0.        ,    3.44827586,    6.89655172,   10.34482759,\n",
              "         13.79310345,   17.24137931,   20.68965517,   24.13793103,\n",
              "         27.5862069 ,   31.03448276,   34.48275862,   37.93103448,\n",
              "         41.37931034,   44.82758621,   48.27586207,   51.72413793,\n",
              "         55.17241379,   58.62068966,   62.06896552,   65.51724138,\n",
              "         68.96551724,   72.4137931 ,   75.86206897,   79.31034483,\n",
              "         82.75862069,   86.20689655,   89.65517241,   93.10344828,\n",
              "         96.55172414,  100.        ])"
            ]
          },
          "metadata": {
            "tags": []
          },
          "execution_count": 56
        }
      ]
    },
    {
      "cell_type": "markdown",
      "metadata": {
        "id": "QpoqkC6frIsk",
        "colab_type": "text"
      },
      "source": [
        "## Numpy Indexing and Selections\n",
        "\n",
        "Using the below given Matrix, generate the output for the below questions"
      ]
    },
    {
      "cell_type": "code",
      "metadata": {
        "id": "B4s44E3PrIsl",
        "colab_type": "code",
        "colab": {},
        "outputId": "5a156007-9a48-45ef-c51e-bf0c62c9f750"
      },
      "source": [
        "simple_matrix = np.arange(1,101).reshape(10,10)\n",
        "simple_matrix"
      ],
      "execution_count": 0,
      "outputs": [
        {
          "output_type": "execute_result",
          "data": {
            "text/plain": [
              "array([[  1,   2,   3,   4,   5,   6,   7,   8,   9,  10],\n",
              "       [ 11,  12,  13,  14,  15,  16,  17,  18,  19,  20],\n",
              "       [ 21,  22,  23,  24,  25,  26,  27,  28,  29,  30],\n",
              "       [ 31,  32,  33,  34,  35,  36,  37,  38,  39,  40],\n",
              "       [ 41,  42,  43,  44,  45,  46,  47,  48,  49,  50],\n",
              "       [ 51,  52,  53,  54,  55,  56,  57,  58,  59,  60],\n",
              "       [ 61,  62,  63,  64,  65,  66,  67,  68,  69,  70],\n",
              "       [ 71,  72,  73,  74,  75,  76,  77,  78,  79,  80],\n",
              "       [ 81,  82,  83,  84,  85,  86,  87,  88,  89,  90],\n",
              "       [ 91,  92,  93,  94,  95,  96,  97,  98,  99, 100]])"
            ]
          },
          "metadata": {
            "tags": []
          },
          "execution_count": 16
        }
      ]
    },
    {
      "cell_type": "markdown",
      "metadata": {
        "collapsed": true,
        "id": "6BaQAF1trIso",
        "colab_type": "text"
      },
      "source": [
        "#### a) Retrieve the last 2 rows and first 3 column values of the above matrix using index & selection technique"
      ]
    },
    {
      "cell_type": "code",
      "metadata": {
        "id": "9hwaW4ikrIsp",
        "colab_type": "code",
        "colab": {},
        "outputId": "62726b49-ab2a-4f7a-ced7-e6911a44b2c0"
      },
      "source": [
        "simple_matrix[8:,0:3]"
      ],
      "execution_count": 0,
      "outputs": [
        {
          "output_type": "execute_result",
          "data": {
            "text/plain": [
              "array([[81, 82, 83],\n",
              "       [91, 92, 93]])"
            ]
          },
          "metadata": {
            "tags": []
          },
          "execution_count": 17
        }
      ]
    },
    {
      "cell_type": "markdown",
      "metadata": {
        "collapsed": true,
        "id": "BStqGODtrIsu",
        "colab_type": "text"
      },
      "source": [
        "#### b) Retrieve the value 55 from the above matrix using index & selection technique"
      ]
    },
    {
      "cell_type": "code",
      "metadata": {
        "id": "dbC9QBdqrIsw",
        "colab_type": "code",
        "colab": {},
        "outputId": "7d99a94c-cefd-4135-e4cf-9c68fc85e8c0"
      },
      "source": [
        "simple_matrix[5,4]"
      ],
      "execution_count": 0,
      "outputs": [
        {
          "output_type": "execute_result",
          "data": {
            "text/plain": [
              "55"
            ]
          },
          "metadata": {
            "tags": []
          },
          "execution_count": 18
        }
      ]
    },
    {
      "cell_type": "markdown",
      "metadata": {
        "collapsed": true,
        "id": "jf9yim1XrIs1",
        "colab_type": "text"
      },
      "source": [
        "#### c) Retrieve the values from the 3rd column in the above matrix"
      ]
    },
    {
      "cell_type": "code",
      "metadata": {
        "id": "svxjJcyorIs2",
        "colab_type": "code",
        "colab": {},
        "outputId": "185c8437-5b33-4cff-8160-5bc52c7b164c"
      },
      "source": [
        "simple_matrix[:,2]"
      ],
      "execution_count": 0,
      "outputs": [
        {
          "output_type": "execute_result",
          "data": {
            "text/plain": [
              "array([ 3, 13, 23, 33, 43, 53, 63, 73, 83, 93])"
            ]
          },
          "metadata": {
            "tags": []
          },
          "execution_count": 19
        }
      ]
    },
    {
      "cell_type": "markdown",
      "metadata": {
        "collapsed": true,
        "id": "IkvcvCjNrIs6",
        "colab_type": "text"
      },
      "source": [
        "#### d) Retrieve the values from the 4th row in the above matrix"
      ]
    },
    {
      "cell_type": "code",
      "metadata": {
        "id": "vAudwrEtrIs7",
        "colab_type": "code",
        "colab": {},
        "outputId": "4d76e6b1-ca0b-4033-85fd-25eee736b728"
      },
      "source": [
        "simple_matrix[3,:]"
      ],
      "execution_count": 0,
      "outputs": [
        {
          "output_type": "execute_result",
          "data": {
            "text/plain": [
              "array([31, 32, 33, 34, 35, 36, 37, 38, 39, 40])"
            ]
          },
          "metadata": {
            "tags": []
          },
          "execution_count": 20
        }
      ]
    },
    {
      "cell_type": "markdown",
      "metadata": {
        "collapsed": true,
        "id": "ZRBY3IdMrIs-",
        "colab_type": "text"
      },
      "source": [
        "#### e) Retrieve values from the 2nd & 4th rows in the above matrix"
      ]
    },
    {
      "cell_type": "code",
      "metadata": {
        "id": "o97K6burrIs_",
        "colab_type": "code",
        "colab": {},
        "outputId": "e9a76283-187b-4a06-b231-d0cd9e790672"
      },
      "source": [
        "simple_matrix[(1,3),:]"
      ],
      "execution_count": 0,
      "outputs": [
        {
          "output_type": "execute_result",
          "data": {
            "text/plain": [
              "array([[11, 12, 13, 14, 15, 16, 17, 18, 19, 20],\n",
              "       [31, 32, 33, 34, 35, 36, 37, 38, 39, 40]])"
            ]
          },
          "metadata": {
            "tags": []
          },
          "execution_count": 21
        }
      ]
    },
    {
      "cell_type": "markdown",
      "metadata": {
        "id": "oK5kOUIfrItD",
        "colab_type": "text"
      },
      "source": [
        "### Calculate the following values for the given matrix"
      ]
    },
    {
      "cell_type": "markdown",
      "metadata": {
        "id": "UedJGLM1rItE",
        "colab_type": "text"
      },
      "source": [
        "#### a) Calculate sum of all the values in the matrix"
      ]
    },
    {
      "cell_type": "code",
      "metadata": {
        "id": "pgjKEWnarItF",
        "colab_type": "code",
        "colab": {},
        "outputId": "8d0b0a26-2efb-4e92-9686-471d49db4dae"
      },
      "source": [
        "simple_matrix.sum()"
      ],
      "execution_count": 0,
      "outputs": [
        {
          "output_type": "execute_result",
          "data": {
            "text/plain": [
              "5050"
            ]
          },
          "metadata": {
            "tags": []
          },
          "execution_count": 22
        }
      ]
    },
    {
      "cell_type": "markdown",
      "metadata": {
        "id": "4YJrfbo1rItJ",
        "colab_type": "text"
      },
      "source": [
        "#### b) Calculate standard deviation of all the values in the matrix"
      ]
    },
    {
      "cell_type": "code",
      "metadata": {
        "id": "2-NRHbVUrItK",
        "colab_type": "code",
        "colab": {},
        "outputId": "81a4fd59-09fd-4ac9-b1e2-5f68e9dd4cb1"
      },
      "source": [
        "simple_matrix.std()"
      ],
      "execution_count": 0,
      "outputs": [
        {
          "output_type": "execute_result",
          "data": {
            "text/plain": [
              "28.866070047722118"
            ]
          },
          "metadata": {
            "tags": []
          },
          "execution_count": 23
        }
      ]
    },
    {
      "cell_type": "markdown",
      "metadata": {
        "id": "cWrHcIqCrItO",
        "colab_type": "text"
      },
      "source": [
        "#### c) Calculate the variance of all values in the matrix"
      ]
    },
    {
      "cell_type": "code",
      "metadata": {
        "id": "ymbDMangrItP",
        "colab_type": "code",
        "colab": {},
        "outputId": "52550121-2b00-4a84-dce4-6174c89337ec"
      },
      "source": [
        "simple_matrix.var()"
      ],
      "execution_count": 0,
      "outputs": [
        {
          "output_type": "execute_result",
          "data": {
            "text/plain": [
              "833.25"
            ]
          },
          "metadata": {
            "tags": []
          },
          "execution_count": 24
        }
      ]
    },
    {
      "cell_type": "markdown",
      "metadata": {
        "collapsed": true,
        "id": "w9zcMc2orItV",
        "colab_type": "text"
      },
      "source": [
        "#### d) Calculate the mean of all values in the matrix"
      ]
    },
    {
      "cell_type": "code",
      "metadata": {
        "id": "FurMYmBurItV",
        "colab_type": "code",
        "colab": {},
        "outputId": "957a8b14-3595-43ba-d06e-fef7361d0f58"
      },
      "source": [
        "simple_matrix.mean()"
      ],
      "execution_count": 0,
      "outputs": [
        {
          "output_type": "execute_result",
          "data": {
            "text/plain": [
              "50.5"
            ]
          },
          "metadata": {
            "tags": []
          },
          "execution_count": 25
        }
      ]
    },
    {
      "cell_type": "markdown",
      "metadata": {
        "id": "fVgQ4C6urItZ",
        "colab_type": "text"
      },
      "source": [
        "#### e) Retrieve the largest number from the matrix"
      ]
    },
    {
      "cell_type": "code",
      "metadata": {
        "id": "1qATKKZPrIta",
        "colab_type": "code",
        "colab": {},
        "outputId": "66d4685d-d5af-4a3d-b50f-e17516076881"
      },
      "source": [
        "simple_matrix.max()"
      ],
      "execution_count": 0,
      "outputs": [
        {
          "output_type": "execute_result",
          "data": {
            "text/plain": [
              "100"
            ]
          },
          "metadata": {
            "tags": []
          },
          "execution_count": 26
        }
      ]
    },
    {
      "cell_type": "markdown",
      "metadata": {
        "id": "YkXFypwqrItd",
        "colab_type": "text"
      },
      "source": [
        "#### f) Retrieve the smallest number from the matrix"
      ]
    },
    {
      "cell_type": "code",
      "metadata": {
        "id": "fYWY1dVmrItd",
        "colab_type": "code",
        "colab": {},
        "outputId": "5dd9c99c-001a-4e04-cc97-bfdf90eef6c4"
      },
      "source": [
        "simple_matrix.min()"
      ],
      "execution_count": 0,
      "outputs": [
        {
          "output_type": "execute_result",
          "data": {
            "text/plain": [
              "1"
            ]
          },
          "metadata": {
            "tags": []
          },
          "execution_count": 27
        }
      ]
    },
    {
      "cell_type": "markdown",
      "metadata": {
        "id": "K0s7Mjh4rItg",
        "colab_type": "text"
      },
      "source": [
        "### End of Lab Exercise - NumPy"
      ]
    }
  ]
}